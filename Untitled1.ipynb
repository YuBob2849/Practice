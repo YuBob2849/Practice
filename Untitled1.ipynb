{
 "cells": [
  {
   "cell_type": "code",
   "execution_count": 1,
   "metadata": {},
   "outputs": [],
   "source": [
    "import pandas as pd\n",
    "import numpy as np\n"
   ]
  },
  {
   "cell_type": "code",
   "execution_count": 23,
   "metadata": {},
   "outputs": [
    {
     "data": {
      "text/html": [
       "<div>\n",
       "<style scoped>\n",
       "    .dataframe tbody tr th:only-of-type {\n",
       "        vertical-align: middle;\n",
       "    }\n",
       "\n",
       "    .dataframe tbody tr th {\n",
       "        vertical-align: top;\n",
       "    }\n",
       "\n",
       "    .dataframe thead th {\n",
       "        text-align: right;\n",
       "    }\n",
       "</style>\n",
       "<table border=\"1\" class=\"dataframe\">\n",
       "  <thead>\n",
       "    <tr style=\"text-align: right;\">\n",
       "      <th></th>\n",
       "      <th>listing_id</th>\n",
       "      <th>date</th>\n",
       "      <th>available</th>\n",
       "      <th>price</th>\n",
       "      <th>adjusted_price</th>\n",
       "      <th>minimum_nights</th>\n",
       "      <th>maximum_nights</th>\n",
       "    </tr>\n",
       "  </thead>\n",
       "  <tbody>\n",
       "    <tr>\n",
       "      <th>12276991</th>\n",
       "      <td>47886100</td>\n",
       "      <td>2022-02-05</td>\n",
       "      <td>f</td>\n",
       "      <td>$1,051.00</td>\n",
       "      <td>$1,051.00</td>\n",
       "      <td>2.0</td>\n",
       "      <td>1125.0</td>\n",
       "    </tr>\n",
       "    <tr>\n",
       "      <th>12276992</th>\n",
       "      <td>47886100</td>\n",
       "      <td>2022-02-06</td>\n",
       "      <td>f</td>\n",
       "      <td>$700.00</td>\n",
       "      <td>$700.00</td>\n",
       "      <td>2.0</td>\n",
       "      <td>1125.0</td>\n",
       "    </tr>\n",
       "    <tr>\n",
       "      <th>12276993</th>\n",
       "      <td>47886100</td>\n",
       "      <td>2022-02-07</td>\n",
       "      <td>f</td>\n",
       "      <td>$700.00</td>\n",
       "      <td>$700.00</td>\n",
       "      <td>2.0</td>\n",
       "      <td>1125.0</td>\n",
       "    </tr>\n",
       "    <tr>\n",
       "      <th>12276994</th>\n",
       "      <td>47886100</td>\n",
       "      <td>2022-02-08</td>\n",
       "      <td>f</td>\n",
       "      <td>$700.00</td>\n",
       "      <td>$700.00</td>\n",
       "      <td>2.0</td>\n",
       "      <td>1125.0</td>\n",
       "    </tr>\n",
       "    <tr>\n",
       "      <th>12276995</th>\n",
       "      <td>47886100</td>\n",
       "      <td>2022-02-09</td>\n",
       "      <td>f</td>\n",
       "      <td>$700.00</td>\n",
       "      <td>$700.00</td>\n",
       "      <td>2.0</td>\n",
       "      <td>1125.0</td>\n",
       "    </tr>\n",
       "  </tbody>\n",
       "</table>\n",
       "</div>"
      ],
      "text/plain": [
       "          listing_id        date available      price adjusted_price  \\\n",
       "12276991    47886100  2022-02-05         f  $1,051.00      $1,051.00   \n",
       "12276992    47886100  2022-02-06         f    $700.00        $700.00   \n",
       "12276993    47886100  2022-02-07         f    $700.00        $700.00   \n",
       "12276994    47886100  2022-02-08         f    $700.00        $700.00   \n",
       "12276995    47886100  2022-02-09         f    $700.00        $700.00   \n",
       "\n",
       "          minimum_nights  maximum_nights  \n",
       "12276991             2.0          1125.0  \n",
       "12276992             2.0          1125.0  \n",
       "12276993             2.0          1125.0  \n",
       "12276994             2.0          1125.0  \n",
       "12276995             2.0          1125.0  "
      ]
     },
     "execution_count": 23,
     "metadata": {},
     "output_type": "execute_result"
    }
   ],
   "source": [
    "listing = pd.read_csv(\"/Users/yanyu/Desktop/group project/Airbnb_Data_Sydney/listings.csv\")\n",
    "listing.sort_values(by = \"host_id\")\n",
    "cal = pd.read_csv(\"/Users/yanyu/Desktop/group project/Airbnb_Data_Sydney/calendar.csv\")\n",
    "li18 = pd.read_csv(\"/Users/yanyu/Downloads/listings.csv\")\n",
    "listing.shape\n",
    "cal.shape\n",
    "cal.tail()"
   ]
  },
  {
   "cell_type": "code",
   "execution_count": 24,
   "metadata": {},
   "outputs": [
    {
     "data": {
      "text/plain": [
       "0        False\n",
       "1        False\n",
       "2        False\n",
       "3        False\n",
       "4        False\n",
       "         ...  \n",
       "38378    False\n",
       "38379    False\n",
       "38380    False\n",
       "38381    False\n",
       "38382    False\n",
       "Name: room_type, Length: 38383, dtype: bool"
      ]
     },
     "execution_count": 24,
     "metadata": {},
     "output_type": "execute_result"
    }
   ],
   "source": [
    "li18.room_type == \"Shared room\""
   ]
  },
  {
   "cell_type": "code",
   "execution_count": 29,
   "metadata": {},
   "outputs": [
    {
     "data": {
      "text/plain": [
       "(0, 16)"
      ]
     },
     "execution_count": 29,
     "metadata": {},
     "output_type": "execute_result"
    }
   ],
   "source": [
    "newL = li18[li18.room_type == \"Hotel room\"]\n",
    "newL.shape"
   ]
  },
  {
   "cell_type": "code",
   "execution_count": 22,
   "metadata": {},
   "outputs": [
    {
     "name": "stdout",
     "output_type": "stream",
     "text": [
      "<class 'pandas.core.frame.DataFrame'>\n",
      "RangeIndex: 33630 entries, 0 to 33629\n",
      "Data columns (total 74 columns):\n",
      " #   Column                                        Non-Null Count  Dtype  \n",
      "---  ------                                        --------------  -----  \n",
      " 0   id                                            33630 non-null  int64  \n",
      " 1   listing_url                                   33630 non-null  object \n",
      " 2   scrape_id                                     33630 non-null  int64  \n",
      " 3   last_scraped                                  33630 non-null  object \n",
      " 4   name                                          33618 non-null  object \n",
      " 5   description                                   32367 non-null  object \n",
      " 6   neighborhood_overview                         19922 non-null  object \n",
      " 7   picture_url                                   33630 non-null  object \n",
      " 8   host_id                                       33630 non-null  int64  \n",
      " 9   host_url                                      33630 non-null  object \n",
      " 10  host_name                                     33596 non-null  object \n",
      " 11  host_since                                    33596 non-null  object \n",
      " 12  host_location                                 33559 non-null  object \n",
      " 13  host_about                                    17342 non-null  object \n",
      " 14  host_response_time                            13439 non-null  object \n",
      " 15  host_response_rate                            13439 non-null  object \n",
      " 16  host_acceptance_rate                          15518 non-null  object \n",
      " 17  host_is_superhost                             33596 non-null  object \n",
      " 18  host_thumbnail_url                            33596 non-null  object \n",
      " 19  host_picture_url                              33596 non-null  object \n",
      " 20  host_neighbourhood                            20655 non-null  object \n",
      " 21  host_listings_count                           33596 non-null  float64\n",
      " 22  host_total_listings_count                     33596 non-null  float64\n",
      " 23  host_verifications                            33630 non-null  object \n",
      " 24  host_has_profile_pic                          33596 non-null  object \n",
      " 25  host_identity_verified                        33596 non-null  object \n",
      " 26  neighbourhood                                 19924 non-null  object \n",
      " 27  neighbourhood_cleansed                        33630 non-null  object \n",
      " 28  neighbourhood_group_cleansed                  0 non-null      float64\n",
      " 29  latitude                                      33630 non-null  float64\n",
      " 30  longitude                                     33630 non-null  float64\n",
      " 31  property_type                                 33630 non-null  object \n",
      " 32  room_type                                     33630 non-null  object \n",
      " 33  accommodates                                  33630 non-null  int64  \n",
      " 34  bathrooms                                     0 non-null      float64\n",
      " 35  bathrooms_text                                33598 non-null  object \n",
      " 36  bedrooms                                      31421 non-null  float64\n",
      " 37  beds                                          33225 non-null  float64\n",
      " 38  amenities                                     33630 non-null  object \n",
      " 39  price                                         33630 non-null  object \n",
      " 40  minimum_nights                                33630 non-null  int64  \n",
      " 41  maximum_nights                                33630 non-null  int64  \n",
      " 42  minimum_minimum_nights                        33630 non-null  int64  \n",
      " 43  maximum_minimum_nights                        33630 non-null  int64  \n",
      " 44  minimum_maximum_nights                        33630 non-null  int64  \n",
      " 45  maximum_maximum_nights                        33630 non-null  int64  \n",
      " 46  minimum_nights_avg_ntm                        33630 non-null  float64\n",
      " 47  maximum_nights_avg_ntm                        33630 non-null  float64\n",
      " 48  calendar_updated                              0 non-null      float64\n",
      " 49  has_availability                              33630 non-null  object \n",
      " 50  availability_30                               33630 non-null  int64  \n",
      " 51  availability_60                               33630 non-null  int64  \n",
      " 52  availability_90                               33630 non-null  int64  \n",
      " 53  availability_365                              33630 non-null  int64  \n",
      " 54  calendar_last_scraped                         33630 non-null  object \n",
      " 55  number_of_reviews                             33630 non-null  int64  \n",
      " 56  number_of_reviews_ltm                         33630 non-null  int64  \n",
      " 57  number_of_reviews_l30d                        33630 non-null  int64  \n",
      " 58  first_review                                  23599 non-null  object \n",
      " 59  last_review                                   23599 non-null  object \n",
      " 60  review_scores_rating                          22376 non-null  float64\n",
      " 61  review_scores_accuracy                        22313 non-null  float64\n",
      " 62  review_scores_cleanliness                     22329 non-null  float64\n",
      " 63  review_scores_checkin                         22303 non-null  float64\n",
      " 64  review_scores_communication                   22325 non-null  float64\n",
      " 65  review_scores_location                        22303 non-null  float64\n",
      " 66  review_scores_value                           22295 non-null  float64\n",
      " 67  license                                       0 non-null      float64\n",
      " 68  instant_bookable                              33630 non-null  object \n",
      " 69  calculated_host_listings_count                33630 non-null  int64  \n",
      " 70  calculated_host_listings_count_entire_homes   33630 non-null  int64  \n",
      " 71  calculated_host_listings_count_private_rooms  33630 non-null  int64  \n",
      " 72  calculated_host_listings_count_shared_rooms   33630 non-null  int64  \n",
      " 73  reviews_per_month                             23599 non-null  float64\n",
      "dtypes: float64(20), int64(21), object(33)\n",
      "memory usage: 19.0+ MB\n",
      "None\n"
     ]
    }
   ],
   "source": [
    "print(listing.info())"
   ]
  }
 ],
 "metadata": {
  "kernelspec": {
   "display_name": "Python 3",
   "language": "python",
   "name": "python3"
  },
  "language_info": {
   "codemirror_mode": {
    "name": "ipython",
    "version": 3
   },
   "file_extension": ".py",
   "mimetype": "text/x-python",
   "name": "python",
   "nbconvert_exporter": "python",
   "pygments_lexer": "ipython3",
   "version": "3.8.5"
  }
 },
 "nbformat": 4,
 "nbformat_minor": 4
}
