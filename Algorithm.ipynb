{
 "cells": [
  {
   "cell_type": "code",
   "execution_count": 13,
   "metadata": {},
   "outputs": [
    {
     "name": "stdout",
     "output_type": "stream",
     "text": [
      "The position of 7 in the list is 6\n"
     ]
    }
   ],
   "source": [
    "def binarySearch(list, n):\n",
    "    bottom = 0\n",
    "    top = len(list)-1\n",
    "    \n",
    "    while bottom <= top:\n",
    "        mid = top + bottom\n",
    "        num = list[mid]\n",
    "        \n",
    "        if num == n:\n",
    "            return mid\n",
    "        if num > n:\n",
    "            top = mid-1\n",
    "        else: \n",
    "            bottom = mid+1\n",
    "    return None\n",
    "\n",
    "myList = [1,2,3,4,5,6,7,8,9,10]\n",
    "\n",
    "print(\"The position of 7 in the list is\", binarySearch(myList, 7))"
   ]
  },
  {
   "cell_type": "code",
   "execution_count": null,
   "metadata": {},
   "outputs": [],
   "source": []
  },
  {
   "cell_type": "code",
   "execution_count": null,
   "metadata": {},
   "outputs": [],
   "source": []
  }
 ],
 "metadata": {
  "kernelspec": {
   "display_name": "Python 3",
   "language": "python",
   "name": "python3"
  },
  "language_info": {
   "codemirror_mode": {
    "name": "ipython",
    "version": 3
   },
   "file_extension": ".py",
   "mimetype": "text/x-python",
   "name": "python",
   "nbconvert_exporter": "python",
   "pygments_lexer": "ipython3",
   "version": "3.8.5"
  }
 },
 "nbformat": 4,
 "nbformat_minor": 4
}
