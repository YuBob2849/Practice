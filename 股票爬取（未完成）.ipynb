{
 "cells": [
  {
   "cell_type": "code",
   "execution_count": 1,
   "metadata": {},
   "outputs": [],
   "source": [
    "from bs4 import BeautifulSoup\n",
    "import urllib.request,urllib.error\n",
    "import re\n",
    "import xlwt"
   ]
  },
  {
   "cell_type": "code",
   "execution_count": 2,
   "metadata": {},
   "outputs": [],
   "source": [
    "findName = re.compile(r'target=\"_blank\">(.*?)</a>.*class=') \n",
    "findType = re.compile(r'<td><font color=\"#808080\">(.*?)</font>',re.S)   \n",
    "findData = re.compile(r'>(.*)</td>')\n"
   ]
  },
  {
   "cell_type": "code",
   "execution_count": 3,
   "metadata": {},
   "outputs": [],
   "source": [
    "def main():\n",
    "    url = 'http://www.shdjt.com/flsort.asp?lb=994420'\n",
    "    stockData = getData(url)\n",
    "    savepath = \"stock.xls\"\n",
    "    saveData(stockData, savepath)"
   ]
  },
  {
   "cell_type": "code",
   "execution_count": 4,
   "metadata": {},
   "outputs": [],
   "source": [
    "def getData(url):\n",
    "    datalist = []\n",
    "    html = askUrl(url)\n",
    "    soup = BeautifulSoup(html, 'html.parser')\n",
    "    for item in soup.find_all('tr',height=\"25\"):\n",
    "        data = []\n",
    "        item = str(item)\n",
    "        name = re.findall(findName, item)\n",
    "        if len(name) != 0:\n",
    "            datalist.append(name)\n",
    "        type = re.findall(findType, item)\n",
    "        if len(type) != 0:\n",
    "            datalist.append(type)\n",
    "        normal_data = re.findall(findData,item)\n",
    "        if len(normal_data) != 0:\n",
    "            del normal_data[2]\n",
    "            del normal_data[2]\n",
    "            datalist.append(normal_data)\n",
    "        datalist = datalist[3:]\n",
    "        stockData = []\n",
    "        for i in range(0,len(datalist),3):\n",
    "            data = datalist[i:i+3]\n",
    "            for i in data[2]:\n",
    "                data.append(i)\n",
    "            del data[2]\n",
    "            data[0], data[2] = data[2],data[0]\n",
    "            stockData.append(data)\n",
    "        print(stockData)\n",
    "        return stockData\n",
    "        \n",
    "    return stockData"
   ]
  },
  {
   "cell_type": "code",
   "execution_count": 5,
   "metadata": {},
   "outputs": [],
   "source": [
    "def askUrl(url):\n",
    "    head = {'user_agent':'Mozilla/5.0 (Macintosh; Intel Mac OS X 11_2_3) AppleWebKit/537.36 (KHTML, like Gecko) Chrome/89.0.4389.128 Safari/537.36'}\n",
    "    request = urllib.request.Request(url, headers=head)\n",
    "    html = ''\n",
    "    try:\n",
    "        response = urllib.request.urlopen(request)\n",
    "        html = response.read().decode('GBK')\n",
    "    except urllib.error.URLError as e:\n",
    "        if hasattr(e,'code'):\n",
    "            print(e.code)\n",
    "        if hasattr(e,'reason'):\n",
    "            print(e.reason)\n",
    "    return html"
   ]
  },
  {
   "cell_type": "code",
   "execution_count": 6,
   "metadata": {},
   "outputs": [],
   "source": [
    "def saveData(datalist, savepath):\n",
    "    print(\"Save......\")\n",
    "    book = xlwt.Workbook(encoding='utf-8', style_compression=0)  \n",
    "    sheet = book.add_sheet('stock', cell_overwrite_ok=True)  \n",
    "\n",
    "    col = (\"序号\",\"行业\",\"股票名称\",\"股票代码\",\"最新价格\",\"涨幅\",\"市值/亿元\",\"市盈率\",\"涨幅/3日%\",\"涨幅/半年\",\n",
    "           \"净额/万元\",\"ddx\",\"ddy\",\"ddz\",\"主动率\",\"通吃率\",\"ddx红/次\",\"ddx红/连\",\"特大差\",\"大单差\",\"中单差\",\n",
    "           \"小单差\",\"活跃度\",\"单数比\",\"特大买入\",\"特大卖出\",\"大单买入\",\"大单卖出\",\"中单买入\",\"中单卖出\",\"小单买入\",\n",
    "           \"小单卖出\",\"换手率\",\"量比\")\n",
    "    for i in range(0,34):\n",
    "        sheet.write(0, i, col[i])\n",
    "    for i in range(0,76):\n",
    "        data = datalist[i]\n",
    "        for j in range(0,34):\n",
    "            sheet.write(i+1,j,data[j])\n",
    "\n",
    "    book.save('stock.xls')\n"
   ]
  },
  {
   "cell_type": "code",
   "execution_count": 7,
   "metadata": {},
   "outputs": [
    {
     "name": "stdout",
     "output_type": "stream",
     "text": [
      "[]\n",
      "Save......\n"
     ]
    },
    {
     "ename": "IndexError",
     "evalue": "list index out of range",
     "output_type": "error",
     "traceback": [
      "\u001b[0;31m---------------------------------------------------------------------------\u001b[0m",
      "\u001b[0;31mIndexError\u001b[0m                                Traceback (most recent call last)",
      "\u001b[0;32m<ipython-input-7-a8f05f6d646d>\u001b[0m in \u001b[0;36m<module>\u001b[0;34m\u001b[0m\n\u001b[1;32m      1\u001b[0m \u001b[0;32mif\u001b[0m \u001b[0m__name__\u001b[0m \u001b[0;34m==\u001b[0m \u001b[0;34m\"__main__\"\u001b[0m\u001b[0;34m:\u001b[0m\u001b[0;34m\u001b[0m\u001b[0;34m\u001b[0m\u001b[0m\n\u001b[0;32m----> 2\u001b[0;31m     \u001b[0mmain\u001b[0m\u001b[0;34m(\u001b[0m\u001b[0;34m)\u001b[0m\u001b[0;34m\u001b[0m\u001b[0;34m\u001b[0m\u001b[0m\n\u001b[0m\u001b[1;32m      3\u001b[0m     \u001b[0mprint\u001b[0m\u001b[0;34m(\u001b[0m\u001b[0;34m\"Finished Data Scraping\"\u001b[0m\u001b[0;34m)\u001b[0m\u001b[0;34m\u001b[0m\u001b[0;34m\u001b[0m\u001b[0m\n\u001b[1;32m      4\u001b[0m \u001b[0;34m\u001b[0m\u001b[0m\n",
      "\u001b[0;32m<ipython-input-3-194113cbdf12>\u001b[0m in \u001b[0;36mmain\u001b[0;34m()\u001b[0m\n\u001b[1;32m      3\u001b[0m     \u001b[0mstockData\u001b[0m \u001b[0;34m=\u001b[0m \u001b[0mgetData\u001b[0m\u001b[0;34m(\u001b[0m\u001b[0murl\u001b[0m\u001b[0;34m)\u001b[0m\u001b[0;34m\u001b[0m\u001b[0;34m\u001b[0m\u001b[0m\n\u001b[1;32m      4\u001b[0m     \u001b[0msavepath\u001b[0m \u001b[0;34m=\u001b[0m \u001b[0;34m\"stock.xls\"\u001b[0m\u001b[0;34m\u001b[0m\u001b[0;34m\u001b[0m\u001b[0m\n\u001b[0;32m----> 5\u001b[0;31m     \u001b[0msaveData\u001b[0m\u001b[0;34m(\u001b[0m\u001b[0mstockData\u001b[0m\u001b[0;34m,\u001b[0m \u001b[0msavepath\u001b[0m\u001b[0;34m)\u001b[0m\u001b[0;34m\u001b[0m\u001b[0;34m\u001b[0m\u001b[0m\n\u001b[0m",
      "\u001b[0;32m<ipython-input-6-c7c756a22b73>\u001b[0m in \u001b[0;36msaveData\u001b[0;34m(datalist, savepath)\u001b[0m\n\u001b[1;32m     11\u001b[0m         \u001b[0msheet\u001b[0m\u001b[0;34m.\u001b[0m\u001b[0mwrite\u001b[0m\u001b[0;34m(\u001b[0m\u001b[0;36m0\u001b[0m\u001b[0;34m,\u001b[0m \u001b[0mi\u001b[0m\u001b[0;34m,\u001b[0m \u001b[0mcol\u001b[0m\u001b[0;34m[\u001b[0m\u001b[0mi\u001b[0m\u001b[0;34m]\u001b[0m\u001b[0;34m)\u001b[0m\u001b[0;34m\u001b[0m\u001b[0;34m\u001b[0m\u001b[0m\n\u001b[1;32m     12\u001b[0m     \u001b[0;32mfor\u001b[0m \u001b[0mi\u001b[0m \u001b[0;32min\u001b[0m \u001b[0mrange\u001b[0m\u001b[0;34m(\u001b[0m\u001b[0;36m0\u001b[0m\u001b[0;34m,\u001b[0m\u001b[0;36m76\u001b[0m\u001b[0;34m)\u001b[0m\u001b[0;34m:\u001b[0m\u001b[0;34m\u001b[0m\u001b[0;34m\u001b[0m\u001b[0m\n\u001b[0;32m---> 13\u001b[0;31m         \u001b[0mdata\u001b[0m \u001b[0;34m=\u001b[0m \u001b[0mdatalist\u001b[0m\u001b[0;34m[\u001b[0m\u001b[0mi\u001b[0m\u001b[0;34m]\u001b[0m\u001b[0;34m\u001b[0m\u001b[0;34m\u001b[0m\u001b[0m\n\u001b[0m\u001b[1;32m     14\u001b[0m         \u001b[0;32mfor\u001b[0m \u001b[0mj\u001b[0m \u001b[0;32min\u001b[0m \u001b[0mrange\u001b[0m\u001b[0;34m(\u001b[0m\u001b[0;36m0\u001b[0m\u001b[0;34m,\u001b[0m\u001b[0;36m34\u001b[0m\u001b[0;34m)\u001b[0m\u001b[0;34m:\u001b[0m\u001b[0;34m\u001b[0m\u001b[0;34m\u001b[0m\u001b[0m\n\u001b[1;32m     15\u001b[0m             \u001b[0msheet\u001b[0m\u001b[0;34m.\u001b[0m\u001b[0mwrite\u001b[0m\u001b[0;34m(\u001b[0m\u001b[0mi\u001b[0m\u001b[0;34m+\u001b[0m\u001b[0;36m1\u001b[0m\u001b[0;34m,\u001b[0m\u001b[0mj\u001b[0m\u001b[0;34m,\u001b[0m\u001b[0mdata\u001b[0m\u001b[0;34m[\u001b[0m\u001b[0mj\u001b[0m\u001b[0;34m]\u001b[0m\u001b[0;34m)\u001b[0m\u001b[0;34m\u001b[0m\u001b[0;34m\u001b[0m\u001b[0m\n",
      "\u001b[0;31mIndexError\u001b[0m: list index out of range"
     ]
    }
   ],
   "source": [
    "if __name__ == \"__main__\":\n",
    "    main()\n",
    "    print(\"Finished Data Scraping\")\n",
    "    "
   ]
  }
 ],
 "metadata": {
  "kernelspec": {
   "display_name": "Python 3",
   "language": "python",
   "name": "python3"
  },
  "language_info": {
   "codemirror_mode": {
    "name": "ipython",
    "version": 3
   },
   "file_extension": ".py",
   "mimetype": "text/x-python",
   "name": "python",
   "nbconvert_exporter": "python",
   "pygments_lexer": "ipython3",
   "version": "3.8.5"
  }
 },
 "nbformat": 4,
 "nbformat_minor": 4
}
