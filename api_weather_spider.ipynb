{
 "cells": [
  {
   "cell_type": "code",
   "execution_count": 1,
   "metadata": {},
   "outputs": [],
   "source": [
    "import requests\n",
    "import json\n",
    "import pandas as pd\n",
    "import matplotlib.pyplot as plt\n",
    "%matplotlib inline\n",
    "from plotnine import *\n",
    "from mizani.breaks import date_breaks"
   ]
  },
  {
   "cell_type": "code",
   "execution_count": 2,
   "metadata": {},
   "outputs": [],
   "source": [
    "appcode = '57c9cadbccc14aad8c09bcd120fbf376'"
   ]
  },
  {
   "cell_type": "code",
   "execution_count": 3,
   "metadata": {},
   "outputs": [],
   "source": [
    "def get_df(areaid, areaname_dict, month, appcode):\n",
    "\n",
    "    url = 'https://ali-weather.showapi.com/weatherhistory'\n",
    "    payload = {'areaid': areaid, 'month': month}\n",
    "    headers = {'Authorization': 'APPCODE {}'.format(appcode)}\n",
    "\n",
    "    r = requests.get(url, params=payload, headers=headers)\n",
    "\n",
    "    content_json = json.loads(r.content)\n",
    "\n",
    "    df = pd.DataFrame(content_json['showapi_res_body']['list'])\n",
    "    df['areaname'] = areaname_dict[areaid]\n",
    "\n",
    "    return df"
   ]
  },
  {
   "cell_type": "code",
   "execution_count": 4,
   "metadata": {},
   "outputs": [],
   "source": [
    "def get_dfs(areaname_dict, months, appcode):\n",
    "    dfs = []\n",
    "    for areaid in areaname_dict:\n",
    "        dfs_times = []\n",
    "        for month in months:\n",
    "            temp_df = get_df(areaid, areaname_dict, month, appcode)\n",
    "            dfs_times.append(temp_df)\n",
    "        area_df = pd.concat(dfs_times)\n",
    "        dfs.append(area_df)\n",
    "    return dfs"
   ]
  },
  {
   "cell_type": "code",
   "execution_count": 5,
   "metadata": {},
   "outputs": [],
   "source": [
    "areaname_dict = {\"101030100\":\"TianJin\", \"101020100\":\"ShangHai\", \"101291401\":\"LiJiang\"}\n",
    "months = [\"202001\",\"202002\",\"202003\"]"
   ]
  },
  {
   "cell_type": "code",
   "execution_count": 6,
   "metadata": {},
   "outputs": [],
   "source": [
    "weather = get_dfs(areaname_dict, months, appcode)"
   ]
  },
  {
   "cell_type": "code",
   "execution_count": 7,
   "metadata": {},
   "outputs": [
    {
     "data": {
      "text/plain": [
       "[   aqiLevel min_temperature      time wind_direction wind_power  aqi weather  \\\n",
       " 0         2              -4  20200101            东北风         1级   83       晴   \n",
       " 1         3              -3  20200102            西北风         2级  107      多云   \n",
       " 2         4              -2  20200103            西北风         2级  177    多云-霾   \n",
       " 3         4              -2  20200104            东北风         2级  188    多云-晴   \n",
       " 4         2              -1  20200105            东北风         2级   79    阴-中雪   \n",
       " ..      ...             ...       ...            ...        ...  ...     ...   \n",
       " 26        1               3  20200327            西北风         3级   33       晴   \n",
       " 27        1               5  20200328            东南风         2级   38    晴-多云   \n",
       " 28        2               8  20200329            西南风         3级   59    晴-多云   \n",
       " 29        2              11  20200330            西南风         3级   67      多云   \n",
       " 30        2               9  20200331            西南风         3级   72    阴-小雨   \n",
       " \n",
       "    max_temperature aqiInfo areaname  \n",
       " 0                2       良  TianJin  \n",
       " 1                4    轻度污染  TianJin  \n",
       " 2                6    中度污染  TianJin  \n",
       " 3                9    中度污染  TianJin  \n",
       " 4                4       良  TianJin  \n",
       " ..             ...     ...      ...  \n",
       " 26              13       优  TianJin  \n",
       " 27              14       优  TianJin  \n",
       " 28              17       良  TianJin  \n",
       " 29              19       良  TianJin  \n",
       " 30              18       良  TianJin  \n",
       " \n",
       " [91 rows x 10 columns],\n",
       "    aqiLevel min_temperature      time wind_direction wind_power aqi weather  \\\n",
       " 0         1               7  20200101            东南风         2级  27    晴-小雨   \n",
       " 1         1               9  20200102            东南风         2级  42       阴   \n",
       " 2         2               9  20200103            东北风         1级  58      小雨   \n",
       " 3         2               9  20200104            东北风         2级  82    小雨-阴   \n",
       " 4         2              12  20200105            东南风         3级  65    阴-多云   \n",
       " ..      ...             ...       ...            ...        ...  ..     ...   \n",
       " 26        1               6  20200327            东北风         4级  46    阴-中雨   \n",
       " 27        1               6  20200328            东北风         3级  34    中雨-阴   \n",
       " 28        1               8  20200329            东北风         2级  34      小雨   \n",
       " 29        1              10  20200330            东北风         3级  29      小雨   \n",
       " 30        1              10  20200331            东北风         2级  34      小雨   \n",
       " \n",
       "    max_temperature aqiInfo  areaname  \n",
       " 0                9       优  ShangHai  \n",
       " 1               12       优  ShangHai  \n",
       " 2               11       良  ShangHai  \n",
       " 3               10       良  ShangHai  \n",
       " 4               13       良  ShangHai  \n",
       " ..             ...     ...       ...  \n",
       " 26              13       优  ShangHai  \n",
       " 27               8       优  ShangHai  \n",
       " 28              10       优  ShangHai  \n",
       " 29              12       优  ShangHai  \n",
       " 30              16       优  ShangHai  \n",
       " \n",
       " [91 rows x 10 columns],\n",
       "    aqiLevel min_temperature      time wind_direction wind_power aqi weather  \\\n",
       " 0         1               1  20200101            西南风         2级  29    晴-多云   \n",
       " 1         1               0  20200102            西南风         2级  25      多云   \n",
       " 2         1               5  20200103            西南风         2级  23    阴-中雨   \n",
       " 3         1               3  20200104            西南风         2级  28      小雨   \n",
       " 4         1               3  20200105            西南风         2级  33   小雨-阵雨   \n",
       " ..      ...             ...       ...            ...        ...  ..     ...   \n",
       " 26        1              11  20200327            西南风         2级  35       晴   \n",
       " 27        1              11  20200328            西南风         2级  39    晴-多云   \n",
       " 28        1              11  20200329            西南风         3级  39    多云-晴   \n",
       " 29        1               9  20200330            西南风         3级  40    晴-多云   \n",
       " 30        1               9  20200331            西南风         2级  42       晴   \n",
       " \n",
       "    max_temperature aqiInfo areaname  \n",
       " 0               14       优  LiJiang  \n",
       " 1               16       优  LiJiang  \n",
       " 2               15       优  LiJiang  \n",
       " 3               10       优  LiJiang  \n",
       " 4               11       优  LiJiang  \n",
       " ..             ...     ...      ...  \n",
       " 26              25       优  LiJiang  \n",
       " 27              22       优  LiJiang  \n",
       " 28              25       优  LiJiang  \n",
       " 29              23       优  LiJiang  \n",
       " 30              25       优  LiJiang  \n",
       " \n",
       " [91 rows x 10 columns]]"
      ]
     },
     "execution_count": 7,
     "metadata": {},
     "output_type": "execute_result"
    }
   ],
   "source": [
    "weather"
   ]
  },
  {
   "cell_type": "code",
   "execution_count": 8,
   "metadata": {},
   "outputs": [
    {
     "data": {
      "text/html": [
       "<div>\n",
       "<style scoped>\n",
       "    .dataframe tbody tr th:only-of-type {\n",
       "        vertical-align: middle;\n",
       "    }\n",
       "\n",
       "    .dataframe tbody tr th {\n",
       "        vertical-align: top;\n",
       "    }\n",
       "\n",
       "    .dataframe thead th {\n",
       "        text-align: right;\n",
       "    }\n",
       "</style>\n",
       "<table border=\"1\" class=\"dataframe\">\n",
       "  <thead>\n",
       "    <tr style=\"text-align: right;\">\n",
       "      <th></th>\n",
       "      <th>aqiLevel</th>\n",
       "      <th>min_temperature</th>\n",
       "      <th>time</th>\n",
       "      <th>wind_direction</th>\n",
       "      <th>wind_power</th>\n",
       "      <th>aqi</th>\n",
       "      <th>weather</th>\n",
       "      <th>max_temperature</th>\n",
       "      <th>aqiInfo</th>\n",
       "      <th>areaname</th>\n",
       "    </tr>\n",
       "  </thead>\n",
       "  <tbody>\n",
       "    <tr>\n",
       "      <th>0</th>\n",
       "      <td>2</td>\n",
       "      <td>-4</td>\n",
       "      <td>20200101</td>\n",
       "      <td>东北风</td>\n",
       "      <td>1级</td>\n",
       "      <td>83</td>\n",
       "      <td>晴</td>\n",
       "      <td>2</td>\n",
       "      <td>良</td>\n",
       "      <td>TianJin</td>\n",
       "    </tr>\n",
       "    <tr>\n",
       "      <th>1</th>\n",
       "      <td>3</td>\n",
       "      <td>-3</td>\n",
       "      <td>20200102</td>\n",
       "      <td>西北风</td>\n",
       "      <td>2级</td>\n",
       "      <td>107</td>\n",
       "      <td>多云</td>\n",
       "      <td>4</td>\n",
       "      <td>轻度污染</td>\n",
       "      <td>TianJin</td>\n",
       "    </tr>\n",
       "    <tr>\n",
       "      <th>2</th>\n",
       "      <td>4</td>\n",
       "      <td>-2</td>\n",
       "      <td>20200103</td>\n",
       "      <td>西北风</td>\n",
       "      <td>2级</td>\n",
       "      <td>177</td>\n",
       "      <td>多云-霾</td>\n",
       "      <td>6</td>\n",
       "      <td>中度污染</td>\n",
       "      <td>TianJin</td>\n",
       "    </tr>\n",
       "    <tr>\n",
       "      <th>3</th>\n",
       "      <td>4</td>\n",
       "      <td>-2</td>\n",
       "      <td>20200104</td>\n",
       "      <td>东北风</td>\n",
       "      <td>2级</td>\n",
       "      <td>188</td>\n",
       "      <td>多云-晴</td>\n",
       "      <td>9</td>\n",
       "      <td>中度污染</td>\n",
       "      <td>TianJin</td>\n",
       "    </tr>\n",
       "    <tr>\n",
       "      <th>4</th>\n",
       "      <td>2</td>\n",
       "      <td>-1</td>\n",
       "      <td>20200105</td>\n",
       "      <td>东北风</td>\n",
       "      <td>2级</td>\n",
       "      <td>79</td>\n",
       "      <td>阴-中雪</td>\n",
       "      <td>4</td>\n",
       "      <td>良</td>\n",
       "      <td>TianJin</td>\n",
       "    </tr>\n",
       "    <tr>\n",
       "      <th>...</th>\n",
       "      <td>...</td>\n",
       "      <td>...</td>\n",
       "      <td>...</td>\n",
       "      <td>...</td>\n",
       "      <td>...</td>\n",
       "      <td>...</td>\n",
       "      <td>...</td>\n",
       "      <td>...</td>\n",
       "      <td>...</td>\n",
       "      <td>...</td>\n",
       "    </tr>\n",
       "    <tr>\n",
       "      <th>26</th>\n",
       "      <td>1</td>\n",
       "      <td>11</td>\n",
       "      <td>20200327</td>\n",
       "      <td>西南风</td>\n",
       "      <td>2级</td>\n",
       "      <td>35</td>\n",
       "      <td>晴</td>\n",
       "      <td>25</td>\n",
       "      <td>优</td>\n",
       "      <td>LiJiang</td>\n",
       "    </tr>\n",
       "    <tr>\n",
       "      <th>27</th>\n",
       "      <td>1</td>\n",
       "      <td>11</td>\n",
       "      <td>20200328</td>\n",
       "      <td>西南风</td>\n",
       "      <td>2级</td>\n",
       "      <td>39</td>\n",
       "      <td>晴-多云</td>\n",
       "      <td>22</td>\n",
       "      <td>优</td>\n",
       "      <td>LiJiang</td>\n",
       "    </tr>\n",
       "    <tr>\n",
       "      <th>28</th>\n",
       "      <td>1</td>\n",
       "      <td>11</td>\n",
       "      <td>20200329</td>\n",
       "      <td>西南风</td>\n",
       "      <td>3级</td>\n",
       "      <td>39</td>\n",
       "      <td>多云-晴</td>\n",
       "      <td>25</td>\n",
       "      <td>优</td>\n",
       "      <td>LiJiang</td>\n",
       "    </tr>\n",
       "    <tr>\n",
       "      <th>29</th>\n",
       "      <td>1</td>\n",
       "      <td>9</td>\n",
       "      <td>20200330</td>\n",
       "      <td>西南风</td>\n",
       "      <td>3级</td>\n",
       "      <td>40</td>\n",
       "      <td>晴-多云</td>\n",
       "      <td>23</td>\n",
       "      <td>优</td>\n",
       "      <td>LiJiang</td>\n",
       "    </tr>\n",
       "    <tr>\n",
       "      <th>30</th>\n",
       "      <td>1</td>\n",
       "      <td>9</td>\n",
       "      <td>20200331</td>\n",
       "      <td>西南风</td>\n",
       "      <td>2级</td>\n",
       "      <td>42</td>\n",
       "      <td>晴</td>\n",
       "      <td>25</td>\n",
       "      <td>优</td>\n",
       "      <td>LiJiang</td>\n",
       "    </tr>\n",
       "  </tbody>\n",
       "</table>\n",
       "<p>273 rows × 10 columns</p>\n",
       "</div>"
      ],
      "text/plain": [
       "   aqiLevel min_temperature      time wind_direction wind_power  aqi weather  \\\n",
       "0         2              -4  20200101            东北风         1级   83       晴   \n",
       "1         3              -3  20200102            西北风         2级  107      多云   \n",
       "2         4              -2  20200103            西北风         2级  177    多云-霾   \n",
       "3         4              -2  20200104            东北风         2级  188    多云-晴   \n",
       "4         2              -1  20200105            东北风         2级   79    阴-中雪   \n",
       "..      ...             ...       ...            ...        ...  ...     ...   \n",
       "26        1              11  20200327            西南风         2级   35       晴   \n",
       "27        1              11  20200328            西南风         2级   39    晴-多云   \n",
       "28        1              11  20200329            西南风         3级   39    多云-晴   \n",
       "29        1               9  20200330            西南风         3级   40    晴-多云   \n",
       "30        1               9  20200331            西南风         2级   42       晴   \n",
       "\n",
       "   max_temperature aqiInfo areaname  \n",
       "0                2       良  TianJin  \n",
       "1                4    轻度污染  TianJin  \n",
       "2                6    中度污染  TianJin  \n",
       "3                9    中度污染  TianJin  \n",
       "4                4       良  TianJin  \n",
       "..             ...     ...      ...  \n",
       "26              25       优  LiJiang  \n",
       "27              22       优  LiJiang  \n",
       "28              25       优  LiJiang  \n",
       "29              23       优  LiJiang  \n",
       "30              25       优  LiJiang  \n",
       "\n",
       "[273 rows x 10 columns]"
      ]
     },
     "execution_count": 8,
     "metadata": {},
     "output_type": "execute_result"
    }
   ],
   "source": [
    "df = pd.concat(weather)\n",
    "df"
   ]
  },
  {
   "cell_type": "code",
   "execution_count": 9,
   "metadata": {},
   "outputs": [
    {
     "data": {
      "text/plain": [
       "aqiLevel           object\n",
       "min_temperature    object\n",
       "time               object\n",
       "wind_direction     object\n",
       "wind_power         object\n",
       "aqi                object\n",
       "weather            object\n",
       "max_temperature    object\n",
       "aqiInfo            object\n",
       "areaname           object\n",
       "dtype: object"
      ]
     },
     "execution_count": 9,
     "metadata": {},
     "output_type": "execute_result"
    }
   ],
   "source": [
    "df.dtypes"
   ]
  },
  {
   "cell_type": "code",
   "execution_count": 10,
   "metadata": {},
   "outputs": [],
   "source": [
    "df.time = pd.to_datetime(df.time)"
   ]
  },
  {
   "cell_type": "code",
   "execution_count": 11,
   "metadata": {},
   "outputs": [],
   "source": [
    "df.aqi = pd.to_numeric(df.aqi)"
   ]
  },
  {
   "cell_type": "code",
   "execution_count": 26,
   "metadata": {},
   "outputs": [
    {
     "name": "stderr",
     "output_type": "stream",
     "text": [
      "findfont: Font family ['Bold'] not found. Falling back to DejaVu Sans.\n",
      "/Users/yanyu/opt/anaconda3/lib/python3.8/site-packages/matplotlib/backends/backend_agg.py:238: RuntimeWarning: Glyph 26085 missing from current font.\n",
      "/Users/yanyu/opt/anaconda3/lib/python3.8/site-packages/matplotlib/backends/backend_agg.py:238: RuntimeWarning: Glyph 26399 missing from current font.\n",
      "/Users/yanyu/opt/anaconda3/lib/python3.8/site-packages/matplotlib/backends/backend_agg.py:201: RuntimeWarning: Glyph 26085 missing from current font.\n",
      "/Users/yanyu/opt/anaconda3/lib/python3.8/site-packages/matplotlib/backends/backend_agg.py:201: RuntimeWarning: Glyph 26399 missing from current font.\n"
     ]
    },
    {
     "data": {
      "image/png": "[encoded data removed]",
      "text/plain": [
       "<Figure size 640x480 with 1 Axes>"
      ]
     },
     "metadata": {
      "needs_background": "light"
     },
     "output_type": "display_data"
    },
    {
     "data": {
      "text/plain": [
       "<ggplot: (8764703000417)>"
      ]
     },
     "execution_count": 26,
     "metadata": {},
     "output_type": "execute_result"
    }
   ],
   "source": [
    "(ggplot(df, aes(x='time', y='aqi', color='factor(areaname)')) + geom_line() +\n",
    " scale_x_datetime(breaks=date_breaks('2 weeks')) +\n",
    " xlab('日期') +\n",
    " theme_matplotlib() +\n",
    " theme(axis_text_x=element_text(rotation=45, hjust=1)) +\n",
    " theme(text=element_text(family='Bold'))\n",
    " )\n"
   ]
  },
  {
   "cell_type": "code",
   "execution_count": null,
   "metadata": {},
   "outputs": [],
   "source": []
  },
  {
   "cell_type": "code",
   "execution_count": 13,
   "metadata": {},
   "outputs": [],
   "source": [
    "#areacode = {'410100','310000','110000'}"
   ]
  },
  {
   "cell_type": "code",
   "execution_count": 14,
   "metadata": {},
   "outputs": [],
   "source": [
    "#month = ['202001','202002','202103']"
   ]
  },
  {
   "cell_type": "code",
   "execution_count": 15,
   "metadata": {},
   "outputs": [],
   "source": [
    "#url = 'https://ali-weather.showapi.com/weatherhistory'"
   ]
  },
  {
   "cell_type": "code",
   "execution_count": 16,
   "metadata": {},
   "outputs": [],
   "source": [
    "#payload = {'areaCode':areacode, 'month':month}"
   ]
  },
  {
   "cell_type": "code",
   "execution_count": 17,
   "metadata": {},
   "outputs": [],
   "source": [
    "#headers = {'Authorization': 'APPCODE ' + appcode}"
   ]
  },
  {
   "cell_type": "code",
   "execution_count": 18,
   "metadata": {},
   "outputs": [],
   "source": [
    "#res = requests.get(url, params = payload, headers = headers)"
   ]
  },
  {
   "cell_type": "code",
   "execution_count": 19,
   "metadata": {},
   "outputs": [],
   "source": [
    "#res"
   ]
  },
  {
   "cell_type": "code",
   "execution_count": 20,
   "metadata": {},
   "outputs": [],
   "source": [
    "#res.content"
   ]
  },
  {
   "cell_type": "code",
   "execution_count": 21,
   "metadata": {},
   "outputs": [],
   "source": [
    "#content_json = json.loads(res.content)"
   ]
  },
  {
   "cell_type": "code",
   "execution_count": 22,
   "metadata": {},
   "outputs": [],
   "source": [
    "#content_json"
   ]
  },
  {
   "cell_type": "code",
   "execution_count": 23,
   "metadata": {},
   "outputs": [],
   "source": [
    "#content_json['showapi_res_body']['list']"
   ]
  },
  {
   "cell_type": "code",
   "execution_count": 24,
   "metadata": {},
   "outputs": [],
   "source": [
    "#data = pd.DataFrame(content_json['showapi_res_body']['list'])"
   ]
  },
  {
   "cell_type": "code",
   "execution_count": 25,
   "metadata": {},
   "outputs": [],
   "source": [
    "#data.shape"
   ]
  }
 ],
 "metadata": {
  "kernelspec": {
   "display_name": "Python 3",
   "language": "python",
   "name": "python3"
  },
  "language_info": {
   "codemirror_mode": {
    "name": "ipython",
    "version": 3
   },
   "file_extension": ".py",
   "mimetype": "text/x-python",
   "name": "python",
   "nbconvert_exporter": "python",
   "pygments_lexer": "ipython3",
   "version": "3.8.5"
  }
 },
 "nbformat": 4,
 "nbformat_minor": 4
}
