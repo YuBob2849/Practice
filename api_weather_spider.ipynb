{
 "cells": [
  {
   "cell_type": "markdown",
   "metadata": {},
   "source": [
    "## 以下代码均为练习使用，代码参考知乎专栏《玉树兰芝》\n",
    "[玉树兰芝](https://zhuanlan.zhihu.com/p/37115099)"
   ]
  },
  {
   "cell_type": "code",
   "execution_count": 1,
   "metadata": {},
   "outputs": [],
   "source": [
    "import requests\n",
    "import json\n",
    "import pandas as pd\n",
    "import matplotlib.pyplot as plt\n",
    "%matplotlib inline\n",
    "from plotnine import *\n",
    "from mizani.breaks import date_breaks"
   ]
  },
  {
   "cell_type": "code",
   "execution_count": 2,
   "metadata": {},
   "outputs": [],
   "source": [
    "appcode = '57c9cadbccc14aad8c09bcd120fbf376'"
   ]
  },
  {
   "cell_type": "code",
   "execution_count": 3,
   "metadata": {},
   "outputs": [],
   "source": [
    "def get_weather(areacode, areaname_dict, month, appcode):\n",
    "    ## 所有数据均来自下方网址， 阿里云\n",
    "    url = 'https://ali-weather.showapi.com/weatherhistory'\n",
    "    payload = {'areaCode': areacode, 'month': month}\n",
    "    \n",
    "    ## 这一步本来是要写成 headers = {'Authorization' : 'APPCODE' + appcode} 但是运行之后出现错误所以改成下方code\n",
    "    headers = {'Authorization': 'APPCODE {}'.format(appcode)}\n",
    "\n",
    "    r = requests.get(url, params=payload, headers=headers)\n",
    "\n",
    "    content_json = json.loads(r.content)\n",
    "\n",
    "    data = pd.DataFrame(content_json['showapi_res_body']['list'])\n",
    "    \n",
    "    ## 这一行我们想要城市的名称\n",
    "    data['areaname'] = areaname_dict[areacode]\n",
    "\n",
    "    return data"
   ]
  },
  {
   "cell_type": "markdown",
   "metadata": {},
   "source": [
    "<b>下面这个方法是为了让我们可以更加方便的定义多个城市，不然的话只用上方一个方法会很累</b>"
   ]
  },
  {
   "cell_type": "code",
   "execution_count": 4,
   "metadata": {},
   "outputs": [],
   "source": [
    "def get_area(areaname_dict, months, appcode):\n",
    "    data = []\n",
    "    for areacode in areaname_dict:\n",
    "        data_times = []\n",
    "        for month in months:\n",
    "            tmp_data = get_weather(areacode, areaname_dict, month, appcode)\n",
    "            data_times.append(tmp_data)\n",
    "        area_data = pd.concat(data_times)\n",
    "        data.append(area_data)\n",
    "    return data"
   ]
  },
  {
   "cell_type": "code",
   "execution_count": 5,
   "metadata": {},
   "outputs": [],
   "source": [
    "areaname_dict = {\"410100\":\"ZhengZhou\", \"310000\":\"ShangHai\", \"110000\":\"LiJiang\"}\n",
    "months = [\"202001\",\"202002\",\"202003\"]"
   ]
  },
  {
   "cell_type": "code",
   "execution_count": 6,
   "metadata": {},
   "outputs": [],
   "source": [
    "weather = get_area(areaname_dict, months, appcode)"
   ]
  },
  {
   "cell_type": "code",
   "execution_count": 7,
   "metadata": {},
   "outputs": [
    {
     "data": {
      "text/plain": [
       "[   aqiLevel min_temperature      time wind_direction wind_power  aqi weather  \\\n",
       " 0         2               0  20200101            东南风         1级   72      多云   \n",
       " 1         3              -1  20200102            东南风         1级  120      多云   \n",
       " 2         4              -2  20200103            东南风         1级  183    阴-多云   \n",
       " 3         5               1  20200104            东南风         2级  242   多云-中雨   \n",
       " 4         5               0  20200105            东北风         3级  274     雨夹雪   \n",
       " ..      ...             ...       ...            ...        ...  ...     ...   \n",
       " 26        1               3  20200327            东北风         3级   41    阴-多云   \n",
       " 27        1               7  20200328            东南风         2级   47    多云-阴   \n",
       " 28        1               4  20200329            西南风         2级   44   小雨-多云   \n",
       " 29        2               8  20200330            东南风         2级   54    晴-多云   \n",
       " 30        2               5  20200331            东南风         2级   73    阴-多云   \n",
       " \n",
       "    max_temperature aqiInfo   areaname  \n",
       " 0                5       良  ZhengZhou  \n",
       " 1                7    轻度污染  ZhengZhou  \n",
       " 2               10    中度污染  ZhengZhou  \n",
       " 3               11    重度污染  ZhengZhou  \n",
       " 4                2    重度污染  ZhengZhou  \n",
       " ..             ...     ...        ...  \n",
       " 26              11       优  ZhengZhou  \n",
       " 27              14       优  ZhengZhou  \n",
       " 28               9       优  ZhengZhou  \n",
       " 29              13       良  ZhengZhou  \n",
       " 30              15       良  ZhengZhou  \n",
       " \n",
       " [91 rows x 10 columns],\n",
       "    aqiLevel min_temperature      time wind_direction wind_power aqi weather  \\\n",
       " 0         1               7  20200101            东南风         2级  27    晴-小雨   \n",
       " 1         1               9  20200102            东南风         2级  42       阴   \n",
       " 2         2               9  20200103            东北风         1级  58      小雨   \n",
       " 3         2               9  20200104            东北风         2级  82    小雨-阴   \n",
       " 4         2              12  20200105            东南风         3级  65    阴-多云   \n",
       " ..      ...             ...       ...            ...        ...  ..     ...   \n",
       " 26        1               6  20200327            东北风         4级  46    阴-中雨   \n",
       " 27        1               6  20200328            东北风         3级  34    中雨-阴   \n",
       " 28        1               8  20200329            东北风         2级  34      小雨   \n",
       " 29        1              10  20200330            东北风         3级  29      小雨   \n",
       " 30        1              10  20200331            东北风         2级  34      小雨   \n",
       " \n",
       "    max_temperature aqiInfo  areaname  \n",
       " 0                9       优  ShangHai  \n",
       " 1               12       优  ShangHai  \n",
       " 2               11       良  ShangHai  \n",
       " 3               10       良  ShangHai  \n",
       " 4               13       良  ShangHai  \n",
       " ..             ...     ...       ...  \n",
       " 26              13       优  ShangHai  \n",
       " 27               8       优  ShangHai  \n",
       " 28              10       优  ShangHai  \n",
       " 29              12       优  ShangHai  \n",
       " 30              16       优  ShangHai  \n",
       " \n",
       " [91 rows x 10 columns],\n",
       "    aqiLevel min_temperature      time wind_direction wind_power aqi weather  \\\n",
       " 0         2              -9  20200101            东北风         1级  53       晴   \n",
       " 1         2              -8  20200102            西北风         1级  74      多云   \n",
       " 2         2              -5  20200103            西北风         1级  72       晴   \n",
       " 3         2              -5  20200104            东北风         1级  59       晴   \n",
       " 4         2              -3  20200105            东北风         1级  79    阴-小雪   \n",
       " ..      ...             ...       ...            ...        ...  ..     ...   \n",
       " 26        1              -1  20200327            西北风         3级  27       晴   \n",
       " 27        1               2  20200328            西南风         2级  30       晴   \n",
       " 28        2               5  20200329            西南风         2级  62      多云   \n",
       " 29        2               7  20200330            西南风         2级  87    阴-多云   \n",
       " 30        2               7  20200331            东北风         2级  87    阴-多云   \n",
       " \n",
       "    max_temperature aqiInfo areaname  \n",
       " 0                0       良  LiJiang  \n",
       " 1                4       良  LiJiang  \n",
       " 2                7       良  LiJiang  \n",
       " 3                9       良  LiJiang  \n",
       " 4                2       良  LiJiang  \n",
       " ..             ...     ...      ...  \n",
       " 26              13       优  LiJiang  \n",
       " 27              14       优  LiJiang  \n",
       " 28              16       良  LiJiang  \n",
       " 29              18       良  LiJiang  \n",
       " 30              19       良  LiJiang  \n",
       " \n",
       " [91 rows x 10 columns]]"
      ]
     },
     "execution_count": 7,
     "metadata": {},
     "output_type": "execute_result"
    }
   ],
   "source": [
    "weather"
   ]
  },
  {
   "cell_type": "code",
   "execution_count": 8,
   "metadata": {},
   "outputs": [
    {
     "data": {
      "text/html": [
       "<div>\n",
       "<style scoped>\n",
       "    .dataframe tbody tr th:only-of-type {\n",
       "        vertical-align: middle;\n",
       "    }\n",
       "\n",
       "    .dataframe tbody tr th {\n",
       "        vertical-align: top;\n",
       "    }\n",
       "\n",
       "    .dataframe thead th {\n",
       "        text-align: right;\n",
       "    }\n",
       "</style>\n",
       "<table border=\"1\" class=\"dataframe\">\n",
       "  <thead>\n",
       "    <tr style=\"text-align: right;\">\n",
       "      <th></th>\n",
       "      <th>aqiLevel</th>\n",
       "      <th>min_temperature</th>\n",
       "      <th>time</th>\n",
       "      <th>wind_direction</th>\n",
       "      <th>wind_power</th>\n",
       "      <th>aqi</th>\n",
       "      <th>weather</th>\n",
       "      <th>max_temperature</th>\n",
       "      <th>aqiInfo</th>\n",
       "      <th>areaname</th>\n",
       "    </tr>\n",
       "  </thead>\n",
       "  <tbody>\n",
       "    <tr>\n",
       "      <th>0</th>\n",
       "      <td>2</td>\n",
       "      <td>0</td>\n",
       "      <td>20200101</td>\n",
       "      <td>东南风</td>\n",
       "      <td>1级</td>\n",
       "      <td>72</td>\n",
       "      <td>多云</td>\n",
       "      <td>5</td>\n",
       "      <td>良</td>\n",
       "      <td>ZhengZhou</td>\n",
       "    </tr>\n",
       "    <tr>\n",
       "      <th>1</th>\n",
       "      <td>3</td>\n",
       "      <td>-1</td>\n",
       "      <td>20200102</td>\n",
       "      <td>东南风</td>\n",
       "      <td>1级</td>\n",
       "      <td>120</td>\n",
       "      <td>多云</td>\n",
       "      <td>7</td>\n",
       "      <td>轻度污染</td>\n",
       "      <td>ZhengZhou</td>\n",
       "    </tr>\n",
       "    <tr>\n",
       "      <th>2</th>\n",
       "      <td>4</td>\n",
       "      <td>-2</td>\n",
       "      <td>20200103</td>\n",
       "      <td>东南风</td>\n",
       "      <td>1级</td>\n",
       "      <td>183</td>\n",
       "      <td>阴-多云</td>\n",
       "      <td>10</td>\n",
       "      <td>中度污染</td>\n",
       "      <td>ZhengZhou</td>\n",
       "    </tr>\n",
       "    <tr>\n",
       "      <th>3</th>\n",
       "      <td>5</td>\n",
       "      <td>1</td>\n",
       "      <td>20200104</td>\n",
       "      <td>东南风</td>\n",
       "      <td>2级</td>\n",
       "      <td>242</td>\n",
       "      <td>多云-中雨</td>\n",
       "      <td>11</td>\n",
       "      <td>重度污染</td>\n",
       "      <td>ZhengZhou</td>\n",
       "    </tr>\n",
       "    <tr>\n",
       "      <th>4</th>\n",
       "      <td>5</td>\n",
       "      <td>0</td>\n",
       "      <td>20200105</td>\n",
       "      <td>东北风</td>\n",
       "      <td>3级</td>\n",
       "      <td>274</td>\n",
       "      <td>雨夹雪</td>\n",
       "      <td>2</td>\n",
       "      <td>重度污染</td>\n",
       "      <td>ZhengZhou</td>\n",
       "    </tr>\n",
       "    <tr>\n",
       "      <th>...</th>\n",
       "      <td>...</td>\n",
       "      <td>...</td>\n",
       "      <td>...</td>\n",
       "      <td>...</td>\n",
       "      <td>...</td>\n",
       "      <td>...</td>\n",
       "      <td>...</td>\n",
       "      <td>...</td>\n",
       "      <td>...</td>\n",
       "      <td>...</td>\n",
       "    </tr>\n",
       "    <tr>\n",
       "      <th>26</th>\n",
       "      <td>1</td>\n",
       "      <td>-1</td>\n",
       "      <td>20200327</td>\n",
       "      <td>西北风</td>\n",
       "      <td>3级</td>\n",
       "      <td>27</td>\n",
       "      <td>晴</td>\n",
       "      <td>13</td>\n",
       "      <td>优</td>\n",
       "      <td>LiJiang</td>\n",
       "    </tr>\n",
       "    <tr>\n",
       "      <th>27</th>\n",
       "      <td>1</td>\n",
       "      <td>2</td>\n",
       "      <td>20200328</td>\n",
       "      <td>西南风</td>\n",
       "      <td>2级</td>\n",
       "      <td>30</td>\n",
       "      <td>晴</td>\n",
       "      <td>14</td>\n",
       "      <td>优</td>\n",
       "      <td>LiJiang</td>\n",
       "    </tr>\n",
       "    <tr>\n",
       "      <th>28</th>\n",
       "      <td>2</td>\n",
       "      <td>5</td>\n",
       "      <td>20200329</td>\n",
       "      <td>西南风</td>\n",
       "      <td>2级</td>\n",
       "      <td>62</td>\n",
       "      <td>多云</td>\n",
       "      <td>16</td>\n",
       "      <td>良</td>\n",
       "      <td>LiJiang</td>\n",
       "    </tr>\n",
       "    <tr>\n",
       "      <th>29</th>\n",
       "      <td>2</td>\n",
       "      <td>7</td>\n",
       "      <td>20200330</td>\n",
       "      <td>西南风</td>\n",
       "      <td>2级</td>\n",
       "      <td>87</td>\n",
       "      <td>阴-多云</td>\n",
       "      <td>18</td>\n",
       "      <td>良</td>\n",
       "      <td>LiJiang</td>\n",
       "    </tr>\n",
       "    <tr>\n",
       "      <th>30</th>\n",
       "      <td>2</td>\n",
       "      <td>7</td>\n",
       "      <td>20200331</td>\n",
       "      <td>东北风</td>\n",
       "      <td>2级</td>\n",
       "      <td>87</td>\n",
       "      <td>阴-多云</td>\n",
       "      <td>19</td>\n",
       "      <td>良</td>\n",
       "      <td>LiJiang</td>\n",
       "    </tr>\n",
       "  </tbody>\n",
       "</table>\n",
       "<p>273 rows × 10 columns</p>\n",
       "</div>"
      ],
      "text/plain": [
       "   aqiLevel min_temperature      time wind_direction wind_power  aqi weather  \\\n",
       "0         2               0  20200101            东南风         1级   72      多云   \n",
       "1         3              -1  20200102            东南风         1级  120      多云   \n",
       "2         4              -2  20200103            东南风         1级  183    阴-多云   \n",
       "3         5               1  20200104            东南风         2级  242   多云-中雨   \n",
       "4         5               0  20200105            东北风         3级  274     雨夹雪   \n",
       "..      ...             ...       ...            ...        ...  ...     ...   \n",
       "26        1              -1  20200327            西北风         3级   27       晴   \n",
       "27        1               2  20200328            西南风         2级   30       晴   \n",
       "28        2               5  20200329            西南风         2级   62      多云   \n",
       "29        2               7  20200330            西南风         2级   87    阴-多云   \n",
       "30        2               7  20200331            东北风         2级   87    阴-多云   \n",
       "\n",
       "   max_temperature aqiInfo   areaname  \n",
       "0                5       良  ZhengZhou  \n",
       "1                7    轻度污染  ZhengZhou  \n",
       "2               10    中度污染  ZhengZhou  \n",
       "3               11    重度污染  ZhengZhou  \n",
       "4                2    重度污染  ZhengZhou  \n",
       "..             ...     ...        ...  \n",
       "26              13       优    LiJiang  \n",
       "27              14       优    LiJiang  \n",
       "28              16       良    LiJiang  \n",
       "29              18       良    LiJiang  \n",
       "30              19       良    LiJiang  \n",
       "\n",
       "[273 rows x 10 columns]"
      ]
     },
     "execution_count": 8,
     "metadata": {},
     "output_type": "execute_result"
    }
   ],
   "source": [
    "df = pd.concat(weather)\n",
    "df"
   ]
  },
  {
   "cell_type": "code",
   "execution_count": 9,
   "metadata": {},
   "outputs": [
    {
     "data": {
      "text/plain": [
       "aqiLevel           object\n",
       "min_temperature    object\n",
       "time               object\n",
       "wind_direction     object\n",
       "wind_power         object\n",
       "aqi                object\n",
       "weather            object\n",
       "max_temperature    object\n",
       "aqiInfo            object\n",
       "areaname           object\n",
       "dtype: object"
      ]
     },
     "execution_count": 9,
     "metadata": {},
     "output_type": "execute_result"
    }
   ],
   "source": [
    "df.dtypes"
   ]
  },
  {
   "cell_type": "code",
   "execution_count": 10,
   "metadata": {},
   "outputs": [],
   "source": [
    "df.time = pd.to_datetime(df.time)"
   ]
  },
  {
   "cell_type": "code",
   "execution_count": 11,
   "metadata": {},
   "outputs": [],
   "source": [
    "df.aqi = pd.to_numeric(df.aqi)"
   ]
  },
  {
   "cell_type": "code",
   "execution_count": 12,
   "metadata": {},
   "outputs": [
    {
     "name": "stderr",
     "output_type": "stream",
     "text": [
      "findfont: Font family ['Bold'] not found. Falling back to DejaVu Sans.\n",
      "/Users/yanyu/opt/anaconda3/lib/python3.8/site-packages/matplotlib/backends/backend_agg.py:238: RuntimeWarning: Glyph 26085 missing from current font.\n",
      "/Users/yanyu/opt/anaconda3/lib/python3.8/site-packages/matplotlib/backends/backend_agg.py:238: RuntimeWarning: Glyph 26399 missing from current font.\n",
      "/Users/yanyu/opt/anaconda3/lib/python3.8/site-packages/matplotlib/backends/backend_agg.py:201: RuntimeWarning: Glyph 26085 missing from current font.\n",
      "/Users/yanyu/opt/anaconda3/lib/python3.8/site-packages/matplotlib/backends/backend_agg.py:201: RuntimeWarning: Glyph 26399 missing from current font.\n"
     ]
    },
    {
     "data": {
      "image/png": "[encoded data removed]",
      "text/plain": [
       "<Figure size 640x480 with 1 Axes>"
      ]
     },
     "metadata": {
      "needs_background": "light"
     },
     "output_type": "display_data"
    },
    {
     "data": {
      "text/plain": [
       "<ggplot: (8772895142132)>"
      ]
     },
     "execution_count": 12,
     "metadata": {},
     "output_type": "execute_result"
    }
   ],
   "source": [
    "(ggplot(df, aes(x='time', y='aqi', color='factor(areaname)')) + geom_line() +\n",
    " scale_x_datetime(breaks=date_breaks('2 weeks')) +\n",
    " xlab('日期') +\n",
    " theme_matplotlib() +\n",
    " theme(axis_text_x=element_text(rotation=45, hjust=1)) +\n",
    " theme(text=element_text(family='Bold'))\n",
    " )\n"
   ]
  },
  {
   "cell_type": "code",
   "execution_count": null,
   "metadata": {},
   "outputs": [],
   "source": []
  },
  {
   "cell_type": "code",
   "execution_count": 13,
   "metadata": {},
   "outputs": [],
   "source": [
    "#areacode = {'410100','310000','110000'}"
   ]
  },
  {
   "cell_type": "code",
   "execution_count": 14,
   "metadata": {},
   "outputs": [],
   "source": [
    "#month = ['202001','202002','202103']"
   ]
  },
  {
   "cell_type": "code",
   "execution_count": 15,
   "metadata": {},
   "outputs": [],
   "source": [
    "#url = 'https://ali-weather.showapi.com/weatherhistory'"
   ]
  },
  {
   "cell_type": "code",
   "execution_count": 16,
   "metadata": {},
   "outputs": [],
   "source": [
    "#payload = {'areaCode':areacode, 'month':month}"
   ]
  },
  {
   "cell_type": "code",
   "execution_count": 17,
   "metadata": {},
   "outputs": [],
   "source": [
    "#headers = {'Authorization': 'APPCODE ' + appcode}"
   ]
  },
  {
   "cell_type": "code",
   "execution_count": 18,
   "metadata": {},
   "outputs": [],
   "source": [
    "#res = requests.get(url, params = payload, headers = headers)"
   ]
  },
  {
   "cell_type": "code",
   "execution_count": 19,
   "metadata": {},
   "outputs": [],
   "source": [
    "#res"
   ]
  },
  {
   "cell_type": "code",
   "execution_count": 20,
   "metadata": {},
   "outputs": [],
   "source": [
    "#res.content"
   ]
  },
  {
   "cell_type": "code",
   "execution_count": 21,
   "metadata": {},
   "outputs": [],
   "source": [
    "#content_json = json.loads(res.content)"
   ]
  },
  {
   "cell_type": "code",
   "execution_count": 22,
   "metadata": {},
   "outputs": [],
   "source": [
    "#content_json"
   ]
  },
  {
   "cell_type": "code",
   "execution_count": 23,
   "metadata": {},
   "outputs": [],
   "source": [
    "#content_json['showapi_res_body']['list']"
   ]
  },
  {
   "cell_type": "code",
   "execution_count": 24,
   "metadata": {},
   "outputs": [],
   "source": [
    "#data = pd.DataFrame(content_json['showapi_res_body']['list'])"
   ]
  },
  {
   "cell_type": "code",
   "execution_count": 25,
   "metadata": {},
   "outputs": [],
   "source": [
    "#data.shape"
   ]
  }
 ],
 "metadata": {
  "kernelspec": {
   "display_name": "Python 3",
   "language": "python",
   "name": "python3"
  },
  "language_info": {
   "codemirror_mode": {
    "name": "ipython",
    "version": 3
   },
   "file_extension": ".py",
   "mimetype": "text/x-python",
   "name": "python",
   "nbconvert_exporter": "python",
   "pygments_lexer": "ipython3",
   "version": "3.8.5"
  }
 },
 "nbformat": 4,
 "nbformat_minor": 4
}
